{
 "cells": [
  {
   "cell_type": "code",
   "execution_count": 2,
   "id": "07de9dc3",
   "metadata": {},
   "outputs": [],
   "source": [
    "import pyspark\n",
    "from pyspark.sql import SparkSession"
   ]
  },
  {
   "cell_type": "code",
   "execution_count": 3,
   "id": "ca5bbb06",
   "metadata": {},
   "outputs": [
    {
     "name": "stderr",
     "output_type": "stream",
     "text": [
      "Setting default log level to \"WARN\".\n",
      "To adjust logging level use sc.setLogLevel(newLevel). For SparkR, use setLogLevel(newLevel).\n",
      "24/02/26 21:20:46 WARN NativeCodeLoader: Unable to load native-hadoop library for your platform... using builtin-java classes where applicable\n",
      "24/02/26 21:20:46 WARN Utils: Service 'SparkUI' could not bind on port 4040. Attempting port 4041.\n"
     ]
    }
   ],
   "source": [
    "spark = SparkSession.builder \\\n",
    "    .master(\"local[*]\") \\\n",
    "    .appName('test') \\\n",
    "    .getOrCreate()"
   ]
  },
  {
   "cell_type": "code",
   "execution_count": null,
   "id": "cf8de204",
   "metadata": {},
   "outputs": [],
   "source": [
    "# !wget https://nyc-tlc.s3.amazonaws.com/trip+data/fhvhv_tripdata_2021-01.csv\n",
    "!wget https://github.com/DataTalksClub/nyc-tlc-data/releases/download/fhvhv/fhvhv_tripdata_2021-01.csv.gz"
   ]
  },
  {
   "cell_type": "code",
   "execution_count": null,
   "id": "9fdce4e7",
   "metadata": {},
   "outputs": [],
   "source": [
    "!gzip -dc fhvhv_tripdata_2021-01.csv.gz > fhvhv_tripdata_2021-01.csv"
   ]
  },
  {
   "cell_type": "code",
   "execution_count": null,
   "id": "2a52087c",
   "metadata": {},
   "outputs": [],
   "source": [
    "!wc -l fhvhv_tripdata_2021-01.csv"
   ]
  },
  {
   "cell_type": "code",
   "execution_count": null,
   "id": "931021a7",
   "metadata": {},
   "outputs": [],
   "source": [
    "df = spark.read \\\n",
    "    .option(\"header\", \"true\") \\\n",
    "    .csv('fhvhv_tripdata_2021-01.csv')"
   ]
  },
  {
   "cell_type": "code",
   "execution_count": null,
   "id": "d44b7839",
   "metadata": {},
   "outputs": [],
   "source": [
    "df.schema\n",
    "df.head()"
   ]
  },
  {
   "cell_type": "code",
   "execution_count": null,
   "id": "4249e790",
   "metadata": {},
   "outputs": [],
   "source": [
    "!head -n 1001 fhvhv_tripdata_2021-01.csv > head.csv"
   ]
  },
  {
   "cell_type": "code",
   "execution_count": 4,
   "id": "6894312c",
   "metadata": {},
   "outputs": [],
   "source": [
    "import pandas as pd"
   ]
  },
  {
   "cell_type": "code",
   "execution_count": null,
   "id": "f3ca771b",
   "metadata": {},
   "outputs": [],
   "source": [
    "df_pandas = pd.read_csv('head.csv.gz')"
   ]
  },
  {
   "cell_type": "code",
   "execution_count": null,
   "id": "f1066b4f",
   "metadata": {},
   "outputs": [],
   "source": [
    "df_pandas.dtypes"
   ]
  },
  {
   "cell_type": "code",
   "execution_count": null,
   "id": "f8413c9d",
   "metadata": {},
   "outputs": [],
   "source": [
    "spark.createDataFrame(df_pandas).schema"
   ]
  },
  {
   "cell_type": "markdown",
   "id": "80f252c1",
   "metadata": {},
   "source": [
    "Integer - 4 bytes\n",
    "Long - 8 bytes"
   ]
  },
  {
   "cell_type": "code",
   "execution_count": 5,
   "id": "16937bfd",
   "metadata": {},
   "outputs": [],
   "source": [
    "from pyspark.sql import types"
   ]
  },
  {
   "cell_type": "code",
   "execution_count": null,
   "id": "fc61a99a",
   "metadata": {},
   "outputs": [],
   "source": [
    "schema = types.StructType([\n",
    "    types.StructField('hvfhs_license_num', types.StringType(), True),\n",
    "    types.StructField('dispatching_base_num', types.StringType(), True),\n",
    "    types.StructField('pickup_datetime', types.TimestampType(), True),\n",
    "    types.StructField('dropoff_datetime', types.TimestampType(), True),\n",
    "    types.StructField('PULocationID', types.IntegerType(), True),\n",
    "    types.StructField('DOLocationID', types.IntegerType(), True),\n",
    "    types.StructField('SR_Flag', types.StringType(), True)\n",
    "])"
   ]
  },
  {
   "cell_type": "code",
   "execution_count": null,
   "id": "f94052ae",
   "metadata": {},
   "outputs": [],
   "source": [
    "df = spark.read \\\n",
    "    .option(\"header\", \"true\") \\\n",
    "    .schema(schema) \\\n",
    "    .csv('fhvhv_tripdata_2021-01.csv')"
   ]
  },
  {
   "cell_type": "code",
   "execution_count": null,
   "id": "ca4a8bb8",
   "metadata": {},
   "outputs": [],
   "source": [
    "df.head(10)"
   ]
  },
  {
   "cell_type": "code",
   "execution_count": null,
   "id": "c270d9d6",
   "metadata": {},
   "outputs": [],
   "source": [
    "df = df.repartition(24)"
   ]
  },
  {
   "cell_type": "code",
   "execution_count": 6,
   "id": "7796c2b2",
   "metadata": {},
   "outputs": [
    {
     "ename": "NameError",
     "evalue": "name 'df' is not defined",
     "output_type": "error",
     "traceback": [
      "\u001b[0;31m---------------------------------------------------------------------------\u001b[0m",
      "\u001b[0;31mNameError\u001b[0m                                 Traceback (most recent call last)",
      "Cell \u001b[0;32mIn[6], line 1\u001b[0m\n\u001b[0;32m----> 1\u001b[0m df\u001b[38;5;241m.\u001b[39mwrite\u001b[38;5;241m.\u001b[39mparquet(\u001b[38;5;124m'\u001b[39m\u001b[38;5;124mfhvhv/2021/01/\u001b[39m\u001b[38;5;124m'\u001b[39m)\n",
      "\u001b[0;31mNameError\u001b[0m: name 'df' is not defined"
     ]
    }
   ],
   "source": [
    "df.write.parquet('fhvhv/2021/01/')"
   ]
  },
  {
   "cell_type": "code",
   "execution_count": 6,
   "id": "c3cab876",
   "metadata": {},
   "outputs": [],
   "source": [
    "df = spark.read.parquet('fhvhv/2021/01/')"
   ]
  },
  {
   "cell_type": "code",
   "execution_count": 7,
   "id": "203b5627",
   "metadata": {},
   "outputs": [
    {
     "name": "stdout",
     "output_type": "stream",
     "text": [
      "root\n",
      " |-- hvfhs_license_num: string (nullable = true)\n",
      " |-- dispatching_base_num: string (nullable = true)\n",
      " |-- pickup_datetime: timestamp (nullable = true)\n",
      " |-- dropoff_datetime: timestamp (nullable = true)\n",
      " |-- PULocationID: integer (nullable = true)\n",
      " |-- DOLocationID: integer (nullable = true)\n",
      " |-- SR_Flag: string (nullable = true)\n",
      "\n"
     ]
    }
   ],
   "source": [
    "df.printSchema()"
   ]
  },
  {
   "cell_type": "code",
   "execution_count": 8,
   "id": "92c3ce73",
   "metadata": {},
   "outputs": [
    {
     "name": "stdout",
     "output_type": "stream",
     "text": [
      "+-------------------+-------------------+------------+------------+\n",
      "|    pickup_datetime|   dropoff_datetime|PULocationID|DOLocationID|\n",
      "+-------------------+-------------------+------------+------------+\n",
      "|2021-01-03 10:20:02|2021-01-03 10:25:03|         158|         249|\n",
      "|2021-01-01 16:37:10|2021-01-01 16:44:05|         232|          45|\n",
      "|2021-01-01 03:21:16|2021-01-01 03:25:26|         255|         255|\n",
      "|2021-01-01 03:55:46|2021-01-01 04:06:04|          83|         138|\n",
      "|2021-01-02 13:19:32|2021-01-02 13:56:27|         191|         265|\n",
      "|2021-01-03 05:32:25|2021-01-03 06:00:44|         225|          29|\n",
      "|2021-01-02 08:31:42|2021-01-02 08:39:07|          51|          51|\n",
      "|2021-01-01 23:10:05|2021-01-01 23:15:49|         231|         261|\n",
      "|2021-01-01 18:51:10|2021-01-01 19:11:15|          42|          32|\n",
      "|2021-01-01 02:33:04|2021-01-01 03:06:58|         127|         174|\n",
      "|2021-01-02 21:38:58|2021-01-02 21:49:25|         244|         262|\n",
      "|2021-01-04 07:35:24|2021-01-04 08:02:11|         248|         132|\n",
      "|2021-01-02 23:54:04|2021-01-03 00:00:25|         247|         169|\n",
      "|2021-01-02 11:15:34|2021-01-02 11:45:48|          77|          67|\n",
      "|2021-01-02 14:41:27|2021-01-02 15:24:40|         186|         132|\n",
      "|2021-01-01 05:28:20|2021-01-01 05:48:00|         215|          53|\n",
      "|2021-01-02 18:25:13|2021-01-02 18:50:15|         158|         265|\n",
      "|2021-01-02 08:45:25|2021-01-02 08:58:01|         213|         243|\n",
      "|2021-01-03 07:20:05|2021-01-03 07:44:10|         132|          61|\n",
      "|2021-01-03 11:20:47|2021-01-03 11:53:47|         203|         211|\n",
      "+-------------------+-------------------+------------+------------+\n",
      "only showing top 20 rows\n",
      "\n"
     ]
    }
   ],
   "source": [
    "df.select('pickup_datetime', 'dropoff_datetime', 'PULocationID', 'DOLocationID')\\\n",
    ".filter(df.hvfhs_license_num=='HV0003')\\\n",
    ".show()\n",
    "\n",
    "# select * from df where hvfhs_license_num = HV0003"
   ]
  },
  {
   "cell_type": "markdown",
   "id": "64172a47",
   "metadata": {},
   "source": [
    "SELECT * FROM df WHERE hvfhs_license_num =  HV0003"
   ]
  },
  {
   "cell_type": "code",
   "execution_count": 9,
   "id": "352b3075",
   "metadata": {},
   "outputs": [],
   "source": [
    "from pyspark.sql import functions as F"
   ]
  },
  {
   "cell_type": "code",
   "execution_count": 10,
   "id": "d79e77ed",
   "metadata": {},
   "outputs": [
    {
     "name": "stdout",
     "output_type": "stream",
     "text": [
      "+-----------------+--------------------+-------------------+-------------------+------------+------------+-------+-----------+-----------+\n",
      "|hvfhs_license_num|dispatching_base_num|    pickup_datetime|   dropoff_datetime|PULocationID|DOLocationID|SR_Flag|pickup_date|dopoff_date|\n",
      "+-----------------+--------------------+-------------------+-------------------+------------+------------+-------+-----------+-----------+\n",
      "|           HV0005|              B02510|2021-01-02 06:28:08|2021-01-02 06:43:35|         218|         135|   NULL| 2021-01-02| 2021-01-02|\n",
      "|           HV0005|              B02510|2021-01-03 14:30:56|2021-01-03 14:44:15|          51|         265|   NULL| 2021-01-03| 2021-01-03|\n",
      "|           HV0005|              B02510|2021-01-02 14:16:09|2021-01-02 14:25:21|         165|          89|   NULL| 2021-01-02| 2021-01-02|\n",
      "|           HV0003|              B02884|2021-01-03 10:20:02|2021-01-03 10:25:03|         158|         249|   NULL| 2021-01-03| 2021-01-03|\n",
      "|           HV0005|              B02510|2021-01-03 17:10:31|2021-01-03 17:23:13|          63|          77|   NULL| 2021-01-03| 2021-01-03|\n",
      "|           HV0003|              B02872|2021-01-01 16:37:10|2021-01-01 16:44:05|         232|          45|   NULL| 2021-01-01| 2021-01-01|\n",
      "|           HV0003|              B02878|2021-01-01 03:21:16|2021-01-01 03:25:26|         255|         255|   NULL| 2021-01-01| 2021-01-01|\n",
      "|           HV0005|              B02510|2021-01-01 03:40:08|2021-01-01 03:46:04|         236|          41|   NULL| 2021-01-01| 2021-01-01|\n",
      "|           HV0003|              B02877|2021-01-01 03:55:46|2021-01-01 04:06:04|          83|         138|   NULL| 2021-01-01| 2021-01-01|\n",
      "|           HV0003|              B02765|2021-01-02 13:19:32|2021-01-02 13:56:27|         191|         265|   NULL| 2021-01-02| 2021-01-02|\n",
      "|           HV0003|              B02882|2021-01-03 05:32:25|2021-01-03 06:00:44|         225|          29|   NULL| 2021-01-03| 2021-01-03|\n",
      "|           HV0005|              B02510|2021-01-01 04:36:55|2021-01-01 04:48:15|         254|         265|   NULL| 2021-01-01| 2021-01-01|\n",
      "|           HV0003|              B02765|2021-01-02 08:31:42|2021-01-02 08:39:07|          51|          51|   NULL| 2021-01-02| 2021-01-02|\n",
      "|           HV0003|              B02765|2021-01-01 23:10:05|2021-01-01 23:15:49|         231|         261|   NULL| 2021-01-01| 2021-01-01|\n",
      "|           HV0005|              B02510|2021-01-01 02:01:41|2021-01-01 02:11:43|          61|         188|   NULL| 2021-01-01| 2021-01-01|\n",
      "|           HV0003|              B02836|2021-01-01 18:51:10|2021-01-01 19:11:15|          42|          32|   NULL| 2021-01-01| 2021-01-01|\n",
      "|           HV0003|              B02835|2021-01-01 02:33:04|2021-01-01 03:06:58|         127|         174|   NULL| 2021-01-01| 2021-01-01|\n",
      "|           HV0004|              B02800|2021-01-01 14:02:55|2021-01-01 14:27:19|         132|         225|   NULL| 2021-01-01| 2021-01-01|\n",
      "|           HV0003|              B02883|2021-01-02 21:38:58|2021-01-02 21:49:25|         244|         262|   NULL| 2021-01-02| 2021-01-02|\n",
      "|           HV0005|              B02510|2021-01-02 18:27:32|2021-01-02 18:36:42|          55|          21|   NULL| 2021-01-02| 2021-01-02|\n",
      "+-----------------+--------------------+-------------------+-------------------+------------+------------+-------+-----------+-----------+\n",
      "only showing top 20 rows\n",
      "\n"
     ]
    }
   ],
   "source": [
    "df.withColumn('pickup_date',F.to_date(df.pickup_datetime)) \\\n",
    ".withColumn('dopoff_date', F.to_date(df.dropoff_datetime)) \\\n",
    ".show()"
   ]
  },
  {
   "cell_type": "code",
   "execution_count": 11,
   "id": "3ab1ca44",
   "metadata": {
    "scrolled": true
   },
   "outputs": [
    {
     "name": "stdout",
     "output_type": "stream",
     "text": [
      "+-----------------+--------------------+-------------------+-------------------+------------+------------+-------+\n",
      "|hvfhs_license_num|dispatching_base_num|    pickup_datetime|   dropoff_datetime|PULocationID|DOLocationID|SR_Flag|\n",
      "+-----------------+--------------------+-------------------+-------------------+------------+------------+-------+\n",
      "|           HV0005|              B02510|2021-01-02 06:28:08|2021-01-02 06:43:35|         218|         135|   NULL|\n",
      "|           HV0005|              B02510|2021-01-03 14:30:56|2021-01-03 14:44:15|          51|         265|   NULL|\n",
      "|           HV0005|              B02510|2021-01-02 14:16:09|2021-01-02 14:25:21|         165|          89|   NULL|\n",
      "|           HV0003|              B02884|2021-01-03 10:20:02|2021-01-03 10:25:03|         158|         249|   NULL|\n",
      "|           HV0005|              B02510|2021-01-03 17:10:31|2021-01-03 17:23:13|          63|          77|   NULL|\n",
      "|           HV0003|              B02872|2021-01-01 16:37:10|2021-01-01 16:44:05|         232|          45|   NULL|\n",
      "|           HV0003|              B02878|2021-01-01 03:21:16|2021-01-01 03:25:26|         255|         255|   NULL|\n",
      "|           HV0005|              B02510|2021-01-01 03:40:08|2021-01-01 03:46:04|         236|          41|   NULL|\n",
      "|           HV0003|              B02877|2021-01-01 03:55:46|2021-01-01 04:06:04|          83|         138|   NULL|\n",
      "|           HV0003|              B02765|2021-01-02 13:19:32|2021-01-02 13:56:27|         191|         265|   NULL|\n",
      "|           HV0003|              B02882|2021-01-03 05:32:25|2021-01-03 06:00:44|         225|          29|   NULL|\n",
      "|           HV0005|              B02510|2021-01-01 04:36:55|2021-01-01 04:48:15|         254|         265|   NULL|\n",
      "|           HV0003|              B02765|2021-01-02 08:31:42|2021-01-02 08:39:07|          51|          51|   NULL|\n",
      "|           HV0003|              B02765|2021-01-01 23:10:05|2021-01-01 23:15:49|         231|         261|   NULL|\n",
      "|           HV0005|              B02510|2021-01-01 02:01:41|2021-01-01 02:11:43|          61|         188|   NULL|\n",
      "|           HV0003|              B02836|2021-01-01 18:51:10|2021-01-01 19:11:15|          42|          32|   NULL|\n",
      "|           HV0003|              B02835|2021-01-01 02:33:04|2021-01-01 03:06:58|         127|         174|   NULL|\n",
      "|           HV0004|              B02800|2021-01-01 14:02:55|2021-01-01 14:27:19|         132|         225|   NULL|\n",
      "|           HV0003|              B02883|2021-01-02 21:38:58|2021-01-02 21:49:25|         244|         262|   NULL|\n",
      "|           HV0005|              B02510|2021-01-02 18:27:32|2021-01-02 18:36:42|          55|          21|   NULL|\n",
      "+-----------------+--------------------+-------------------+-------------------+------------+------------+-------+\n",
      "only showing top 20 rows\n",
      "\n"
     ]
    }
   ],
   "source": [
    "df.show()"
   ]
  },
  {
   "cell_type": "code",
   "execution_count": 12,
   "id": "6d98c2ce",
   "metadata": {},
   "outputs": [],
   "source": [
    "def crazy_stuff(base_num):\n",
    "    num = int(base_num[1:])\n",
    "    if num % 7 == 0:\n",
    "        return f's/{num:03x}'\n",
    "    elif num % 3 == 0:\n",
    "        return f'a/{num:03x}'\n",
    "    else:\n",
    "        return f'e/{num:03x}'"
   ]
  },
  {
   "cell_type": "code",
   "execution_count": 13,
   "id": "f3175419",
   "metadata": {},
   "outputs": [
    {
     "data": {
      "text/plain": [
       "'s/b44'"
      ]
     },
     "execution_count": 13,
     "metadata": {},
     "output_type": "execute_result"
    }
   ],
   "source": [
    "crazy_stuff('B02884')"
   ]
  },
  {
   "cell_type": "code",
   "execution_count": 14,
   "id": "9bb5d503",
   "metadata": {},
   "outputs": [],
   "source": [
    "#User Defined functions\n",
    "crazy_stuff_udf = F.udf(crazy_stuff, returnType=types.StringType())"
   ]
  },
  {
   "cell_type": "code",
   "execution_count": 15,
   "id": "b38f0465",
   "metadata": {
    "scrolled": true
   },
   "outputs": [
    {
     "name": "stdout",
     "output_type": "stream",
     "text": [
      "+-------+-----------+------------+------------+------------+\n",
      "|base_id|pickup_date|dropoff_date|PULocationID|DOLocationID|\n",
      "+-------+-----------+------------+------------+------------+\n",
      "|  e/9ce| 2021-01-02|  2021-01-02|         218|         135|\n",
      "|  e/9ce| 2021-01-03|  2021-01-03|          51|         265|\n",
      "|  e/9ce| 2021-01-02|  2021-01-02|         165|          89|\n",
      "|  s/b44| 2021-01-03|  2021-01-03|         158|         249|\n",
      "|  e/9ce| 2021-01-03|  2021-01-03|          63|          77|\n",
      "|  e/b38| 2021-01-01|  2021-01-01|         232|          45|\n",
      "|  e/b3e| 2021-01-01|  2021-01-01|         255|         255|\n",
      "|  e/9ce| 2021-01-01|  2021-01-01|         236|          41|\n",
      "|  s/b3d| 2021-01-01|  2021-01-01|          83|         138|\n",
      "|  s/acd| 2021-01-02|  2021-01-02|         191|         265|\n",
      "|  e/b42| 2021-01-03|  2021-01-03|         225|          29|\n",
      "|  e/9ce| 2021-01-01|  2021-01-01|         254|         265|\n",
      "|  s/acd| 2021-01-02|  2021-01-02|          51|          51|\n",
      "|  s/acd| 2021-01-01|  2021-01-01|         231|         261|\n",
      "|  e/9ce| 2021-01-01|  2021-01-01|          61|         188|\n",
      "|  e/b14| 2021-01-01|  2021-01-01|          42|          32|\n",
      "|  s/b13| 2021-01-01|  2021-01-01|         127|         174|\n",
      "|  s/af0| 2021-01-01|  2021-01-01|         132|         225|\n",
      "|  a/b43| 2021-01-02|  2021-01-02|         244|         262|\n",
      "|  e/9ce| 2021-01-02|  2021-01-02|          55|          21|\n",
      "+-------+-----------+------------+------------+------------+\n",
      "only showing top 20 rows\n",
      "\n"
     ]
    }
   ],
   "source": [
    "#showing we can create new columns using the Funcitons library from pyspark.sql\n",
    "\n",
    "df \\\n",
    "    .withColumn('pickup_date', F.to_date(df.pickup_datetime)) \\\n",
    "    .withColumn('dropoff_date', F.to_date(df.dropoff_datetime)) \\\n",
    "    .withColumn('base_id', crazy_stuff_udf(df.dispatching_base_num)) \\\n",
    "    .select('base_id', 'pickup_date', 'dropoff_date', 'PULocationID', 'DOLocationID') \\\n",
    "    .show()"
   ]
  },
  {
   "cell_type": "code",
   "execution_count": 16,
   "id": "00921644",
   "metadata": {},
   "outputs": [
    {
     "data": {
      "text/plain": [
       "DataFrame[pickup_datetime: timestamp, dropoff_datetime: timestamp, PULocationID: int, DOLocationID: int]"
      ]
     },
     "execution_count": 16,
     "metadata": {},
     "output_type": "execute_result"
    }
   ],
   "source": [
    "df.select('pickup_datetime', 'dropoff_datetime', 'PULocationID', 'DOLocationID') \\\n",
    "  .filter(df.hvfhs_license_num == 'HV0003')\n"
   ]
  },
  {
   "cell_type": "code",
   "execution_count": 17,
   "id": "0866f9c0",
   "metadata": {},
   "outputs": [
    {
     "name": "stdout",
     "output_type": "stream",
     "text": [
      "hvfhs_license_num,dispatching_base_num,pickup_datetime,dropoff_datetime,PULocationID,DOLocationID,SR_Flag\n",
      "HV0003,B02682,2021-01-01 00:33:44,2021-01-01 00:49:07,230,166,\n",
      "HV0003,B02682,2021-01-01 00:55:19,2021-01-01 01:18:21,152,167,\n",
      "HV0003,B02764,2021-01-01 00:23:56,2021-01-01 00:38:05,233,142,\n",
      "HV0003,B02764,2021-01-01 00:42:51,2021-01-01 00:45:50,142,143,\n",
      "HV0003,B02764,2021-01-01 00:48:14,2021-01-01 01:08:42,143,78,\n",
      "HV0005,B02510,2021-01-01 00:06:59,2021-01-01 00:43:01,88,42,\n",
      "HV0005,B02510,2021-01-01 00:50:00,2021-01-01 01:04:57,42,151,\n",
      "HV0003,B02764,2021-01-01 00:14:30,2021-01-01 00:50:27,71,226,\n",
      "HV0003,B02875,2021-01-01 00:22:54,2021-01-01 00:30:20,112,255,\n"
     ]
    }
   ],
   "source": [
    "!head -n 10 head.csv"
   ]
  },
  {
   "cell_type": "code",
   "execution_count": null,
   "id": "aa1b0e18",
   "metadata": {},
   "outputs": [],
   "source": []
  }
 ],
 "metadata": {
  "kernelspec": {
   "display_name": "Python 3 (ipykernel)",
   "language": "python",
   "name": "python3"
  },
  "language_info": {
   "codemirror_mode": {
    "name": "ipython",
    "version": 3
   },
   "file_extension": ".py",
   "mimetype": "text/x-python",
   "name": "python",
   "nbconvert_exporter": "python",
   "pygments_lexer": "ipython3",
   "version": "3.11.5"
  }
 },
 "nbformat": 4,
 "nbformat_minor": 5
}
